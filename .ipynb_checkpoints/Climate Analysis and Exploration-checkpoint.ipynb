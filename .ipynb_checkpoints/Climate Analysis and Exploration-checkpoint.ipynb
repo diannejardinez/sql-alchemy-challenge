{
 "cells": [
  {
   "cell_type": "markdown",
   "metadata": {},
   "source": [
    "# Setup"
   ]
  },
  {
   "cell_type": "code",
   "execution_count": 1,
   "metadata": {},
   "outputs": [],
   "source": [
    "#Set dependencies and set-up\n",
    "# Import Matplot lib\n",
    "import matplotlib\n",
    "from matplotlib import style\n",
    "style.use('fivethirtyeight')\n",
    "import matplotlib.pyplot as plt\n",
    "\n",
    "#Import datetime\n",
    "import datetime as dt\n",
    "\n",
    "#Import Pandas\n",
    "import pandas as pd\n",
    "\n",
    "#Import dependencies - Python SQL toolkit and Object Relational Mapper\n",
    "import sqlalchemy\n",
    "from sqlalchemy.ext.automap import automap_base\n",
    "from sqlalchemy.orm import Session\n",
    "from sqlalchemy import create_engine, func"
   ]
  },
  {
   "cell_type": "markdown",
   "metadata": {},
   "source": [
    "# Explore Database"
   ]
  },
  {
   "cell_type": "code",
   "execution_count": 2,
   "metadata": {},
   "outputs": [
    {
     "data": {
      "text/plain": [
       "['measurement', 'station']"
      ]
     },
     "execution_count": 2,
     "metadata": {},
     "output_type": "execute_result"
    }
   ],
   "source": [
    "#Create engine\n",
    "engine = create_engine(f'sqlite:///../sql-alchemy-challenge/Resources/hawaii.sqlite')\n",
    "\n",
    "# Declare a Base using `automap_base()`\n",
    "Base = automap_base()\n",
    "\n",
    "# Use the Base class to reflect the database tables\n",
    "Base.prepare(engine, reflect=True)\n",
    "\n",
    "# Print all of the classes mapped to the Base\n",
    "Base.classes.keys()\n"
   ]
  },
  {
   "cell_type": "code",
   "execution_count": 3,
   "metadata": {},
   "outputs": [],
   "source": [
    "# Save References to Each Table\n",
    "Measurement = Base.classes.measurement\n",
    "Station = Base.classes.station\n",
    "\n",
    "# Create/Start a session to query the database\n",
    "session = Session(engine)\n",
    "\n",
    "# Display the row's columns and data in dictionary format\n",
    "# first_row = session.query(Station).first()\n",
    "# first_row.__dict__\n",
    "\n",
    "# Display the row's columns and data in dictionary format\n",
    "# first_row = session.query(Measurement).first()\n",
    "# first_row.__dict__\n"
   ]
  },
  {
   "cell_type": "markdown",
   "metadata": {},
   "source": [
    "# Precipitation Analysis"
   ]
  },
  {
   "cell_type": "code",
   "execution_count": 4,
   "metadata": {},
   "outputs": [],
   "source": [
    "#Design a query to retrieve the last 12 months of precipitation data\n",
    "\n",
    "#Query for last date in measurement table\n",
    "#last day: 2017-08-23 \n",
    "last_day = session.query(Measurement.date).order_by(Measurement.date.desc()).first()\n",
    "\n",
    "#Query for the last date and the last 12 months for precipitation\n",
    "#year ago date: 2016-08-23\n",
    "year_ago = dt.date(2017,8, 23) - dt.timedelta(days=365)\n",
    "\n",
    "#Query for 2016-2017 dates in measurement table\n",
    "#Date range: 08/23/2016 to 08/23/2017 \n",
    "measurement_1617 = session.query(Measurement.date, Measurement.prcp).\\\n",
    "    filter(Measurement.date >= year_ago).all()\n"
   ]
  },
  {
   "cell_type": "code",
   "execution_count": 5,
   "metadata": {},
   "outputs": [
    {
     "data": {
      "text/html": [
       "<div>\n",
       "<style scoped>\n",
       "    .dataframe tbody tr th:only-of-type {\n",
       "        vertical-align: middle;\n",
       "    }\n",
       "\n",
       "    .dataframe tbody tr th {\n",
       "        vertical-align: top;\n",
       "    }\n",
       "\n",
       "    .dataframe thead th {\n",
       "        text-align: right;\n",
       "    }\n",
       "</style>\n",
       "<table border=\"1\" class=\"dataframe\">\n",
       "  <thead>\n",
       "    <tr style=\"text-align: right;\">\n",
       "      <th></th>\n",
       "      <th>Precipitation</th>\n",
       "    </tr>\n",
       "    <tr>\n",
       "      <th>date</th>\n",
       "      <th></th>\n",
       "    </tr>\n",
       "  </thead>\n",
       "  <tbody>\n",
       "    <tr>\n",
       "      <td>2016-08-23</td>\n",
       "      <td>0.00</td>\n",
       "    </tr>\n",
       "    <tr>\n",
       "      <td>2016-08-24</td>\n",
       "      <td>0.08</td>\n",
       "    </tr>\n",
       "    <tr>\n",
       "      <td>2016-08-25</td>\n",
       "      <td>0.08</td>\n",
       "    </tr>\n",
       "    <tr>\n",
       "      <td>2016-08-26</td>\n",
       "      <td>0.00</td>\n",
       "    </tr>\n",
       "    <tr>\n",
       "      <td>2016-08-27</td>\n",
       "      <td>0.00</td>\n",
       "    </tr>\n",
       "    <tr>\n",
       "      <td>...</td>\n",
       "      <td>...</td>\n",
       "    </tr>\n",
       "    <tr>\n",
       "      <td>2017-08-19</td>\n",
       "      <td>0.09</td>\n",
       "    </tr>\n",
       "    <tr>\n",
       "      <td>2017-08-20</td>\n",
       "      <td>NaN</td>\n",
       "    </tr>\n",
       "    <tr>\n",
       "      <td>2017-08-21</td>\n",
       "      <td>0.56</td>\n",
       "    </tr>\n",
       "    <tr>\n",
       "      <td>2017-08-22</td>\n",
       "      <td>0.50</td>\n",
       "    </tr>\n",
       "    <tr>\n",
       "      <td>2017-08-23</td>\n",
       "      <td>0.45</td>\n",
       "    </tr>\n",
       "  </tbody>\n",
       "</table>\n",
       "<p>2230 rows × 1 columns</p>\n",
       "</div>"
      ],
      "text/plain": [
       "            Precipitation\n",
       "date                     \n",
       "2016-08-23           0.00\n",
       "2016-08-24           0.08\n",
       "2016-08-25           0.08\n",
       "2016-08-26           0.00\n",
       "2016-08-27           0.00\n",
       "...                   ...\n",
       "2017-08-19           0.09\n",
       "2017-08-20            NaN\n",
       "2017-08-21           0.56\n",
       "2017-08-22           0.50\n",
       "2017-08-23           0.45\n",
       "\n",
       "[2230 rows x 1 columns]"
      ]
     },
     "execution_count": 5,
     "metadata": {},
     "output_type": "execute_result"
    }
   ],
   "source": [
    "#Save the Query Results as a Pandas DataFrame and \n",
    "#Set the Index to the Date Column & Sort the Dataframe Values by date\n",
    "measurement_1617_df = pd.DataFrame(measurement_1617)\n",
    "measurement_1617_df = measurement_1617_df.set_index('date')\n",
    "measurement_1617_df = measurement_1617_df.rename(columns ={'prcp': 'Precipitation'})\n",
    "measurement_1617_df \n"
   ]
  },
  {
   "cell_type": "code",
   "execution_count": 6,
   "metadata": {},
   "outputs": [
    {
     "data": {
      "image/png": "[encoded data removed]",
      "text/plain": [
       "<Figure size 1080x360 with 1 Axes>"
      ]
     },
     "metadata": {
      "needs_background": "light"
     },
     "output_type": "display_data"
    }
   ],
   "source": [
    "#Use Pandas Plotting with Matplotlib to plot the Data\n",
    "#Creating line plot with pandas\n",
    "measurement_lineplot = measurement_1617_df.plot(kind='line', figsize=(15,5))\n",
    "\n",
    "#Creating chart title and labels\n",
    "plt.title(\"Precipitation values from 08/23/2016 to 08/23/2017\", fontsize='20')\n",
    "plt.xlabel(\"Date\", fontsize='15')\n",
    "plt.ylabel(\"Inches\", fontsize='15')\n",
    "\n",
    "\n",
    "#setting legend\n",
    "plt.legend(loc=\"upper left\", fontsize='15')\n",
    "\n",
    "#saving and showing figure\n",
    "plt.savefig(f'../sql-alchemy-challenge/Output_data/Precipitation_Analysis.png')\n",
    "\n",
    "plt.show()\n"
   ]
  },
  {
   "cell_type": "code",
   "execution_count": 7,
   "metadata": {},
   "outputs": [
    {
     "data": {
      "text/html": [
       "<div>\n",
       "<style scoped>\n",
       "    .dataframe tbody tr th:only-of-type {\n",
       "        vertical-align: middle;\n",
       "    }\n",
       "\n",
       "    .dataframe tbody tr th {\n",
       "        vertical-align: top;\n",
       "    }\n",
       "\n",
       "    .dataframe thead th {\n",
       "        text-align: right;\n",
       "    }\n",
       "</style>\n",
       "<table border=\"1\" class=\"dataframe\">\n",
       "  <thead>\n",
       "    <tr style=\"text-align: right;\">\n",
       "      <th></th>\n",
       "      <th>Precipitation</th>\n",
       "    </tr>\n",
       "  </thead>\n",
       "  <tbody>\n",
       "    <tr>\n",
       "      <td>count</td>\n",
       "      <td>2021.000000</td>\n",
       "    </tr>\n",
       "    <tr>\n",
       "      <td>mean</td>\n",
       "      <td>0.177279</td>\n",
       "    </tr>\n",
       "    <tr>\n",
       "      <td>std</td>\n",
       "      <td>0.461190</td>\n",
       "    </tr>\n",
       "    <tr>\n",
       "      <td>min</td>\n",
       "      <td>0.000000</td>\n",
       "    </tr>\n",
       "    <tr>\n",
       "      <td>25%</td>\n",
       "      <td>0.000000</td>\n",
       "    </tr>\n",
       "    <tr>\n",
       "      <td>50%</td>\n",
       "      <td>0.020000</td>\n",
       "    </tr>\n",
       "    <tr>\n",
       "      <td>75%</td>\n",
       "      <td>0.130000</td>\n",
       "    </tr>\n",
       "    <tr>\n",
       "      <td>max</td>\n",
       "      <td>6.700000</td>\n",
       "    </tr>\n",
       "  </tbody>\n",
       "</table>\n",
       "</div>"
      ],
      "text/plain": [
       "       Precipitation\n",
       "count    2021.000000\n",
       "mean        0.177279\n",
       "std         0.461190\n",
       "min         0.000000\n",
       "25%         0.000000\n",
       "50%         0.020000\n",
       "75%         0.130000\n",
       "max         6.700000"
      ]
     },
     "execution_count": 7,
     "metadata": {},
     "output_type": "execute_result"
    }
   ],
   "source": [
    "#Use Pandas to Calculate the Summary Statistics for the Precipitation Data\n",
    "\n",
    "measurement_1617_df.describe()"
   ]
  },
  {
   "cell_type": "markdown",
   "metadata": {},
   "source": [
    "# Station Analysis"
   ]
  },
  {
   "cell_type": "code",
   "execution_count": 8,
   "metadata": {},
   "outputs": [
    {
     "data": {
      "text/plain": [
       "[(9)]"
      ]
     },
     "execution_count": 8,
     "metadata": {},
     "output_type": "execute_result"
    }
   ],
   "source": [
    "#Design a query to calculate the total number of stations.\n",
    "session.query(func.count(Station.name)).all()"
   ]
  },
  {
   "cell_type": "code",
   "execution_count": 9,
   "metadata": {},
   "outputs": [
    {
     "data": {
      "text/plain": [
       "[('USC00519281', 2772),\n",
       " ('USC00519397', 2724),\n",
       " ('USC00513117', 2709),\n",
       " ('USC00519523', 2669),\n",
       " ('USC00516128', 2612),\n",
       " ('USC00514830', 2202),\n",
       " ('USC00511918', 1979),\n",
       " ('USC00517948', 1372),\n",
       " ('USC00518838', 511)]"
      ]
     },
     "execution_count": 9,
     "metadata": {},
     "output_type": "execute_result"
    }
   ],
   "source": [
    "# Design a query to find the most active stations\n",
    "station_active = session.query(Measurement.station, func.count(Measurement.station)).\\\n",
    "    group_by(Measurement.station).\\\n",
    "    order_by(func.count(Measurement.station).desc()).all()\n",
    "station_active"
   ]
  },
  {
   "cell_type": "code",
   "execution_count": 10,
   "metadata": {},
   "outputs": [
    {
     "data": {
      "text/html": [
       "<div>\n",
       "<style scoped>\n",
       "    .dataframe tbody tr th:only-of-type {\n",
       "        vertical-align: middle;\n",
       "    }\n",
       "\n",
       "    .dataframe tbody tr th {\n",
       "        vertical-align: top;\n",
       "    }\n",
       "\n",
       "    .dataframe thead th {\n",
       "        text-align: right;\n",
       "    }\n",
       "</style>\n",
       "<table border=\"1\" class=\"dataframe\">\n",
       "  <thead>\n",
       "    <tr style=\"text-align: right;\">\n",
       "      <th></th>\n",
       "      <th>Station</th>\n",
       "      <th>Observation counts</th>\n",
       "    </tr>\n",
       "  </thead>\n",
       "  <tbody>\n",
       "    <tr>\n",
       "      <td>0</td>\n",
       "      <td>USC00519281</td>\n",
       "      <td>2772</td>\n",
       "    </tr>\n",
       "    <tr>\n",
       "      <td>1</td>\n",
       "      <td>USC00519397</td>\n",
       "      <td>2724</td>\n",
       "    </tr>\n",
       "    <tr>\n",
       "      <td>2</td>\n",
       "      <td>USC00513117</td>\n",
       "      <td>2709</td>\n",
       "    </tr>\n",
       "    <tr>\n",
       "      <td>3</td>\n",
       "      <td>USC00519523</td>\n",
       "      <td>2669</td>\n",
       "    </tr>\n",
       "    <tr>\n",
       "      <td>4</td>\n",
       "      <td>USC00516128</td>\n",
       "      <td>2612</td>\n",
       "    </tr>\n",
       "    <tr>\n",
       "      <td>5</td>\n",
       "      <td>USC00514830</td>\n",
       "      <td>2202</td>\n",
       "    </tr>\n",
       "    <tr>\n",
       "      <td>6</td>\n",
       "      <td>USC00511918</td>\n",
       "      <td>1979</td>\n",
       "    </tr>\n",
       "    <tr>\n",
       "      <td>7</td>\n",
       "      <td>USC00517948</td>\n",
       "      <td>1372</td>\n",
       "    </tr>\n",
       "    <tr>\n",
       "      <td>8</td>\n",
       "      <td>USC00518838</td>\n",
       "      <td>511</td>\n",
       "    </tr>\n",
       "  </tbody>\n",
       "</table>\n",
       "</div>"
      ],
      "text/plain": [
       "       Station  Observation counts\n",
       "0  USC00519281                2772\n",
       "1  USC00519397                2724\n",
       "2  USC00513117                2709\n",
       "3  USC00519523                2669\n",
       "4  USC00516128                2612\n",
       "5  USC00514830                2202\n",
       "6  USC00511918                1979\n",
       "7  USC00517948                1372\n",
       "8  USC00518838                 511"
      ]
     },
     "execution_count": 10,
     "metadata": {},
     "output_type": "execute_result"
    }
   ],
   "source": [
    "#Find the stations and group their occurences and count those occurences\n",
    "station_observe = session.query(Measurement.station, func.count(Measurement.tobs)).\\\n",
    "    group_by(Measurement.station).\\\n",
    "    order_by(func.count(Measurement.tobs).desc()).all()\n",
    "\n",
    "#Query this into a DataFrame \n",
    "station_observe_df = pd.DataFrame(station_observe, columns =['Station', 'Observation counts'])\n",
    "station_observe_df\n"
   ]
  },
  {
   "cell_type": "code",
   "execution_count": null,
   "metadata": {},
   "outputs": [],
   "source": []
  },
  {
   "cell_type": "code",
   "execution_count": 12,
   "metadata": {},
   "outputs": [],
   "source": [
    "# Design a query to retrieve the last 12 months of temperature observation data (tobs).\n",
    "\n",
    "#Query from 08/23/2016 to 08/23/2017 dates in measurement table for observations\n",
    "# Filter by the station with the highest number of observations\n",
    "observations_1617 = session.query(Measurement.date, Measurement.tobs).\\\n",
    "    filter(Measurement.date >= year_ago).\\\n",
    "    filter(Measurement.station == 'USC00519281').all()\n"
   ]
  },
  {
   "cell_type": "code",
   "execution_count": null,
   "metadata": {},
   "outputs": [],
   "source": [
    "# Plot the results as a histogram with bins=12.\n",
    "\n",
    "\n",
    "#figure size\n",
    "plt.figure(figsize=(10,5))\n",
    "\n",
    "#creating histogram\n",
    "\n",
    "observations_1617.\n",
    "\n",
    "plot = plt.hist(observations_1617_df['Temperature Observations'], label ='Temperature Observations', bins=12, alpha=0.5, edgecolor='black')\n",
    "\n",
    "#formating x and y axis and title\n",
    "plt.xlabel('Date',fontsize='15')\n",
    "plt.ylabel('Frequency',fontsize='15')\n",
    "\n",
    "plt.title('Temperature Observations for Station USC00519281 from 08/23/2016 to 08/23/2017 ', fontsize='15')\n",
    "\n",
    "plt.grid(True)\n",
    "\n",
    "plt.legend(loc='upper left')\n",
    "\n",
    "#saving and showing figure\n",
    "#plt.savefig(f'../sql-alchemy-challenge/Output_data/Station_Analysis_USC00519281.png')\n",
    "\n",
    "plt.show()"
   ]
  },
  {
   "cell_type": "code",
   "execution_count": null,
   "metadata": {},
   "outputs": [],
   "source": []
  },
  {
   "cell_type": "markdown",
   "metadata": {},
   "source": [
    "Which station has the highest number of observations?\n",
    "The USC00519281 station"
   ]
  },
  {
   "cell_type": "code",
   "execution_count": 11,
   "metadata": {},
   "outputs": [
    {
     "data": {
      "text/html": [
       "<div>\n",
       "<style scoped>\n",
       "    .dataframe tbody tr th:only-of-type {\n",
       "        vertical-align: middle;\n",
       "    }\n",
       "\n",
       "    .dataframe tbody tr th {\n",
       "        vertical-align: top;\n",
       "    }\n",
       "\n",
       "    .dataframe thead th {\n",
       "        text-align: right;\n",
       "    }\n",
       "</style>\n",
       "<table border=\"1\" class=\"dataframe\">\n",
       "  <thead>\n",
       "    <tr style=\"text-align: right;\">\n",
       "      <th></th>\n",
       "      <th>Temperature Observations</th>\n",
       "    </tr>\n",
       "    <tr>\n",
       "      <th>date</th>\n",
       "      <th></th>\n",
       "    </tr>\n",
       "  </thead>\n",
       "  <tbody>\n",
       "    <tr>\n",
       "      <td>2016-08-23</td>\n",
       "      <td>77.0</td>\n",
       "    </tr>\n",
       "    <tr>\n",
       "      <td>2016-08-24</td>\n",
       "      <td>77.0</td>\n",
       "    </tr>\n",
       "    <tr>\n",
       "      <td>2016-08-25</td>\n",
       "      <td>80.0</td>\n",
       "    </tr>\n",
       "    <tr>\n",
       "      <td>2016-08-26</td>\n",
       "      <td>80.0</td>\n",
       "    </tr>\n",
       "    <tr>\n",
       "      <td>2016-08-27</td>\n",
       "      <td>75.0</td>\n",
       "    </tr>\n",
       "  </tbody>\n",
       "</table>\n",
       "</div>"
      ],
      "text/plain": [
       "            Temperature Observations\n",
       "date                                \n",
       "2016-08-23                      77.0\n",
       "2016-08-24                      77.0\n",
       "2016-08-25                      80.0\n",
       "2016-08-26                      80.0\n",
       "2016-08-27                      75.0"
      ]
     },
     "execution_count": 11,
     "metadata": {},
     "output_type": "execute_result"
    }
   ],
   "source": [
    "# Design a query to retrieve the last 12 months of temperature observation data (tobs).\n",
    "\n",
    "#Query from 08/23/2016 to 08/23/2017 dates in measurement table for observations\n",
    "# Filter by the station with the highest number of observations\n",
    "observations_1617 = session.query(Measurement.date, Measurement.tobs).\\\n",
    "    filter(Measurement.date >= year_ago).\\\n",
    "    filter(Measurement.station == 'USC00519281').all()\n",
    "\n",
    "observations_1617_df = pd.DataFrame(observations_1617)\n",
    "observations_1617_df = observations_1617_df.set_index('date')\n",
    "observations_1617_df = observations_1617_df.rename(columns ={'tobs': 'Temperature Observations'})\n",
    "observations_1617_df.head()\n",
    "\n"
   ]
  },
  {
   "cell_type": "code",
   "execution_count": 12,
   "metadata": {},
   "outputs": [
    {
     "data": {
      "image/png": "[encoded data removed]",
      "text/plain": [
       "<Figure size 720x360 with 1 Axes>"
      ]
     },
     "metadata": {
      "needs_background": "light"
     },
     "output_type": "display_data"
    }
   ],
   "source": [
    "# Plot the results as a histogram with bins=12.\n",
    "\n",
    "#figure size\n",
    "plt.figure(figsize=(10,5))\n",
    "\n",
    "#creating histogram\n",
    "plot = plt.hist(observations_1617_df['Temperature Observations'], label ='Temperature Observations', bins=12, alpha=0.5, edgecolor='black')\n",
    "\n",
    "#formating x and y axis and title\n",
    "plt.xlabel('Date',fontsize='15')\n",
    "plt.ylabel('Frequency',fontsize='15')\n",
    "\n",
    "plt.title('Temperature Observations for Station USC00519281 from 08/23/2016 to 08/23/2017 ', fontsize='15')\n",
    "\n",
    "plt.grid(True)\n",
    "\n",
    "plt.legend(loc='upper left')\n",
    "\n",
    "#saving and showing figure\n",
    "plt.savefig(f'../sql-alchemy-challenge/Output_data/Station_Analysis_USC00519281.png')\n",
    "\n",
    "plt.show()"
   ]
  },
  {
   "cell_type": "code",
   "execution_count": null,
   "metadata": {},
   "outputs": [],
   "source": []
  }
 ],
 "metadata": {
  "kernelspec": {
   "display_name": "Python 3",
   "language": "python",
   "name": "python3"
  },
  "language_info": {
   "codemirror_mode": {
    "name": "ipython",
    "version": 3
   },
   "file_extension": ".py",
   "mimetype": "text/x-python",
   "name": "python",
   "nbconvert_exporter": "python",
   "pygments_lexer": "ipython3",
   "version": "3.7.4"
  }
 },
 "nbformat": 4,
 "nbformat_minor": 2
}
