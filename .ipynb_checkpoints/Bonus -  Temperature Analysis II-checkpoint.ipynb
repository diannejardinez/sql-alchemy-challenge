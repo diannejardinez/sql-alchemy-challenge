{
 "cells": [
  {
   "cell_type": "markdown",
   "metadata": {},
   "source": [
    "# Bonus: Other Recommended Analyses"
   ]
  },
  {
   "cell_type": "markdown",
   "metadata": {},
   "source": [
    "# Temperature Analysis II"
   ]
  },
  {
   "cell_type": "code",
   "execution_count": 1,
   "metadata": {},
   "outputs": [],
   "source": [
    "#Set dependencies and set-up\n",
    "\n",
    "from scipy import stats\n",
    "from scipy import mean\n",
    "import numpy as np\n",
    "import pandas as pd\n",
    "import matplotlib.pyplot as plt\n",
    "from matplotlib import style\n",
    "style.use('fivethirtyeight')\n",
    "\n",
    "#Import datetime\n",
    "import datetime as dt\n",
    "\n",
    "#Import dependencies - Python SQL toolkit and Object Relational Mapper\n",
    "import sqlalchemy\n",
    "from sqlalchemy.ext.automap import automap_base\n",
    "from sqlalchemy.orm import Session\n",
    "from sqlalchemy import create_engine, func\n"
   ]
  },
  {
   "cell_type": "code",
   "execution_count": 2,
   "metadata": {},
   "outputs": [],
   "source": [
    "#Create engine\n",
    "engine = create_engine(f'sqlite:///../sql-alchemy-challenge/Resources/hawaii.sqlite')\n",
    "\n",
    "# Declare a Base using `automap_base()`\n",
    "Base = automap_base()\n",
    "\n",
    "# Use the Base class to reflect the database tables\n",
    "Base.prepare(engine, reflect=True)\n",
    "\n",
    "# Save References to Each Table\n",
    "Measurement = Base.classes.measurement\n",
    "Station = Base.classes.station\n",
    "\n",
    "# Create/Start a session to query the database\n",
    "session = Session(engine)\n"
   ]
  },
  {
   "cell_type": "code",
   "execution_count": 3,
   "metadata": {},
   "outputs": [
    {
     "data": {
      "text/html": [
       "<div>\n",
       "<style scoped>\n",
       "    .dataframe tbody tr th:only-of-type {\n",
       "        vertical-align: middle;\n",
       "    }\n",
       "\n",
       "    .dataframe tbody tr th {\n",
       "        vertical-align: top;\n",
       "    }\n",
       "\n",
       "    .dataframe thead th {\n",
       "        text-align: right;\n",
       "    }\n",
       "</style>\n",
       "<table border=\"1\" class=\"dataframe\">\n",
       "  <thead>\n",
       "    <tr style=\"text-align: right;\">\n",
       "      <th></th>\n",
       "      <th>Date</th>\n",
       "      <th>Min_tobs</th>\n",
       "      <th>Max_tobs</th>\n",
       "      <th>Ave_tobs</th>\n",
       "    </tr>\n",
       "  </thead>\n",
       "  <tbody>\n",
       "    <tr>\n",
       "      <td>0</td>\n",
       "      <td>2017-05-23</td>\n",
       "      <td>53.0</td>\n",
       "      <td>87.0</td>\n",
       "      <td>73.19638</td>\n",
       "    </tr>\n",
       "  </tbody>\n",
       "</table>\n",
       "</div>"
      ],
      "text/plain": [
       "         Date  Min_tobs  Max_tobs  Ave_tobs\n",
       "0  2017-05-23      53.0      87.0  73.19638"
      ]
     },
     "execution_count": 3,
     "metadata": {},
     "output_type": "execute_result"
    }
   ],
   "source": [
    "# Use the calc_temps Function to calculate the min, avg, and max Temperatures \n",
    "#for Your Trip Using the Previous Year's Data for Those Same Dates\n",
    "\n",
    "#calc_temps Function to Calculate the min, avg, and max Temperatures\n",
    "calc_temps = [Measurement.date,\n",
    "      func.min(Measurement.tobs),\n",
    "      func.max(Measurement.tobs),\n",
    "      func.avg(Measurement.tobs)]\n",
    "\n",
    "#Trip date: 09-01-2011\n",
    "\n",
    "#Query for the trip date and the last 12 months \n",
    "#year ago from trip: 09-01-2010\n",
    "year_ago_trip = dt.date(2011, 9, 1) - dt.timedelta(days=365)\n",
    "\n",
    "#Query with calc_temps function and 1 year from 09-01-2010 to 09-01-2011\n",
    "temp_trip_results = session.query(*calc_temps).filter(Measurement.date >= year_ago_trip).all()\n",
    "\n",
    "#Putting query to DataFrame\n",
    "temp_trip_results_df = pd.DataFrame(temp_trip_results, columns =['Date', 'Min_tobs', 'Max_tobs', 'Ave_tobs'])\n",
    "#temp_results_df = temp_results_df.drop(['Date'], axis=1)\n",
    "temp_trip_results_df"
   ]
  },
  {
   "cell_type": "code",
   "execution_count": 4,
   "metadata": {},
   "outputs": [
    {
     "data": {
      "image/png": "[encoded data removed]",
      "text/plain": [
       "<Figure size 720x360 with 1 Axes>"
      ]
     },
     "metadata": {
      "needs_background": "light"
     },
     "output_type": "display_data"
    }
   ],
   "source": [
    "# Plot the min, avg, and max temperature from your previous query as a bar chart.\n",
    "# Use the average temperature as the bar height.\n",
    "\n",
    "#figure size\n",
    "plt.figure(figsize=(10,5))\n",
    "\n",
    "# Evaluate the standard error measurement \n",
    "# Creating error bar\n",
    "# Use the peak-to-peak (tmax-tmin) value as the y error bar (yerr)\n",
    "standard_errors = (temp_trip_results_df['Max_tobs']- temp_trip_results_df['Min_tobs'])\n",
    "\n",
    "#Creating bar plot with pandas\n",
    "trip_barplot = temp_trip_results_df['Ave_tobs'].plot(kind='bar', yerr=standard_errors, figsize=(10,5), color='orange')\n",
    "\n",
    "#Creating chart title and labels\n",
    "plt.title(\"Average Temperature from 09-01-2010 to 09-01-2011\", fontsize='15')\n",
    "plt.xlabel(\"Date\", fontsize='15')\n",
    "plt.ylabel(\"Average Temperature\", fontsize='15')\n",
    "\n",
    "#saving and showing figure\n",
    "plt.savefig(f'../sql-alchemy-challenge/Output_data/Bonus_TempAnII_avetemp.png')\n",
    "\n",
    "plt.show()"
   ]
  },
  {
   "cell_type": "code",
   "execution_count": null,
   "metadata": {},
   "outputs": [],
   "source": []
  }
 ],
 "metadata": {
  "kernelspec": {
   "display_name": "Python 3",
   "language": "python",
   "name": "python3"
  },
  "language_info": {
   "codemirror_mode": {
    "name": "ipython",
    "version": 3
   },
   "file_extension": ".py",
   "mimetype": "text/x-python",
   "name": "python",
   "nbconvert_exporter": "python",
   "pygments_lexer": "ipython3",
   "version": "3.7.4"
  }
 },
 "nbformat": 4,
 "nbformat_minor": 2
}
